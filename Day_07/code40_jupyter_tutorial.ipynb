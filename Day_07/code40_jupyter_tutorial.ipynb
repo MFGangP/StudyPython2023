{
 "cells": [
  {
   "attachments": {},
   "cell_type": "markdown",
   "metadata": {},
   "source": [
    "## 7일차\n",
    "- 셀 오른쪽 아래에서 언어 변경 가능\n",
    "    - 마크다운, 파이썬, SQL 등등...\n",
    "- 셀이 선택된 상태에서는 변경할 수 없음 \n",
    "- ESC 눌려서 선택 해제 하고 난뒤에 변경 가능\n",
    "- 다 작성하면 Ctrl + Enter로 빠져 나와야함\n",
    ">\n",
    "단축키\n",
    ">\n",
    "- a : 위에 새로운 셀 추가\n",
    "- b : 아래에 새로운 셀 추가\n",
    "\n",
    "    - c : 셀 복사하기\n",
    "    - v : 셀 붙여넣기\n",
    "    - x : 셀 잘라내기\n",
    "    - dd : 셀 삭제하기\n",
    "    - p : 셀 아래에 붙여넣기\n",
    ">\n",
    "- 포커스(커서가 깜박거리지 않는)상태에서 M(마크다운), Y(프로그램 언어)\n",
    "\n",
    "    - Shift + m : 선택 셀과 아래 셀과 합치기\n",
    "    - Ctrl + s 또는 s  : 파일 저장\n",
    "    - Enter  : 선택 셀의 코드 입력 모드로 돌아가기\n",
    ">\n",
    "- Ctrl + Enter : 입력 셀 실행\n",
    ">\n",
    "### 둘 다 이전 셀을 상속해서 셀을 생성함\n",
    "- Alt + Enter : 입력영역 실행 후(셀 실행) 아래 새로운 영역 추가(다음 셀 생성) 밑에 셀 무조건 생성\n",
    "- Shift + Enter : 입력 셀 실행 후 아래 셀로 이동 (없으면 새로운 셀 추가) 밑에 셀 있으면 안만듦    \n",
    "\n",
    "    - Ctrl + a : 선택 셀의 코드 전체 선택\n",
    "    - Ctrl + z : 선택 셀 내 실행 취소\n",
    "    - Ctrl + y : 선택 셀 내 다시 실행\n",
    ">\n",
    "- Ctrl + / : 커서 위치 라인 주석처리\n",
    "\n",
    "    - Shift + Ctrl + - : 커서 위치에서 셀 둘로 나누기"
   ]
  },
  {
   "cell_type": "code",
   "execution_count": 1,
   "metadata": {},
   "outputs": [
    {
     "name": "stdout",
     "output_type": "stream",
     "text": [
      "Hello, Jupyter!!\n"
     ]
    }
   ],
   "source": [
    "print('Hello, Jupyter!!')\n",
    "# print('Hello, Jupyter!!')"
   ]
  },
  {
   "attachments": {},
   "cell_type": "markdown",
   "metadata": {},
   "source": [
    "## 디버깅 - 제일 중요함\n",
    "\n",
    "파이썬 디버깅에는 제약사항이 없음\n",
    "주피터 노트북에서는 "
   ]
  },
  {
   "cell_type": "code",
   "execution_count": 2,
   "metadata": {},
   "outputs": [
    {
     "name": "stdout",
     "output_type": "stream",
     "text": [
      "1\n",
      "2\n",
      "True\n",
      "hello\n",
      "3.1415926585\n"
     ]
    }
   ],
   "source": [
    "arr = [1, '2', True, 'hello', 3.1415926585]\n",
    "for i in arr:\n",
    "    print(i)"
   ]
  },
  {
   "attachments": {},
   "cell_type": "markdown",
   "metadata": {},
   "source": [
    "## 함수 디버깅"
   ]
  },
  {
   "cell_type": "code",
   "execution_count": 3,
   "metadata": {},
   "outputs": [
    {
     "name": "stdout",
     "output_type": "stream",
     "text": [
      "더하기\n",
      "14\n"
     ]
    }
   ],
   "source": [
    "def plus(x, y):\n",
    "    val = x + y\n",
    "    return val\n",
    "\n",
    "def div(x, y):\n",
    "    val = x / y\n",
    "    return val\n",
    "    \n",
    "print('더하기')\n",
    "print(plus(10, 4))"
   ]
  },
  {
   "cell_type": "code",
   "execution_count": 4,
   "metadata": {},
   "outputs": [
    {
     "name": "stdout",
     "output_type": "stream",
     "text": [
      "나누기\n"
     ]
    },
    {
     "ename": "ZeroDivisionError",
     "evalue": "division by zero",
     "output_type": "error",
     "traceback": [
      "\u001b[1;31m---------------------------------------------------------------------------\u001b[0m",
      "\u001b[1;31mZeroDivisionError\u001b[0m                         Traceback (most recent call last)",
      "Cell \u001b[1;32mIn[4], line 2\u001b[0m\n\u001b[0;32m      1\u001b[0m \u001b[39mprint\u001b[39m(\u001b[39m'\u001b[39m\u001b[39m나누기\u001b[39m\u001b[39m'\u001b[39m)\n\u001b[1;32m----> 2\u001b[0m \u001b[39mprint\u001b[39m(div(\u001b[39m10\u001b[39;49m,\u001b[39m0\u001b[39;49m))\n",
      "Cell \u001b[1;32mIn[3], line 6\u001b[0m, in \u001b[0;36mdiv\u001b[1;34m(x, y)\u001b[0m\n\u001b[0;32m      5\u001b[0m \u001b[39mdef\u001b[39;00m \u001b[39mdiv\u001b[39m(x, y):\n\u001b[1;32m----> 6\u001b[0m     val \u001b[39m=\u001b[39m x \u001b[39m/\u001b[39;49m y\n\u001b[0;32m      7\u001b[0m     \u001b[39mreturn\u001b[39;00m val\n",
      "\u001b[1;31mZeroDivisionError\u001b[0m: division by zero"
     ]
    }
   ],
   "source": [
    "print('나누기')\n",
    "print(div(10,0))"
   ]
  },
  {
   "attachments": {},
   "cell_type": "markdown",
   "metadata": {},
   "source": [
    "디버깅이 원하는 대로 작동을 안해서 다른 방법\n",
    "    => .py 파일로 내보내기 한다음 실행하면 정상적으로 디버깅이 된다."
   ]
  },
  {
   "cell_type": "code",
   "execution_count": null,
   "metadata": {},
   "outputs": [
    {
     "name": "stdout",
     "output_type": "stream",
     "text": [
      "[1, '2', True, 'hello', 3.1415926585]\n"
     ]
    }
   ],
   "source": [
    "print(arr)"
   ]
  },
  {
   "cell_type": "code",
   "execution_count": null,
   "metadata": {},
   "outputs": [
    {
     "data": {
      "text/plain": [
       "[1, '2', True, 'hello', 3.1415926585]"
      ]
     },
     "execution_count": 17,
     "metadata": {},
     "output_type": "execute_result"
    }
   ],
   "source": [
    "arr"
   ]
  },
  {
   "attachments": {},
   "cell_type": "markdown",
   "metadata": {},
   "source": [
    "### list(array) for 문 예제 "
   ]
  },
  {
   "cell_type": "code",
   "execution_count": null,
   "metadata": {},
   "outputs": [
    {
     "data": {
      "text/plain": [
       "<enumerate at 0x2ee54f2f1f0>"
      ]
     },
     "execution_count": 18,
     "metadata": {},
     "output_type": "execute_result"
    }
   ],
   "source": [
    "enumerate(arr)"
   ]
  },
  {
   "cell_type": "code",
   "execution_count": null,
   "metadata": {},
   "outputs": [
    {
     "name": "stdout",
     "output_type": "stream",
     "text": [
      "0 = 1\n",
      "1 = 2\n",
      "2 = True\n",
      "3 = hello\n",
      "4 = 3.1415926585\n"
     ]
    }
   ],
   "source": [
    "for i, item in enumerate(arr):\n",
    "    print(f'{i} = {item}')"
   ]
  }
 ],
 "metadata": {
  "kernelspec": {
   "display_name": "Python 3",
   "language": "python",
   "name": "python3"
  },
  "language_info": {
   "codemirror_mode": {
    "name": "ipython",
    "version": 3
   },
   "file_extension": ".py",
   "mimetype": "text/x-python",
   "name": "python",
   "nbconvert_exporter": "python",
   "pygments_lexer": "ipython3",
   "version": "3.11.1"
  },
  "orig_nbformat": 4,
  "vscode": {
   "interpreter": {
    "hash": "5b487bf376290759192d1191036f4bd7036e13ce1d29d2ff8e3797884ea54958"
   }
  }
 },
 "nbformat": 4,
 "nbformat_minor": 2
}
