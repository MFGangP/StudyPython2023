{
 "cells": [
  {
   "attachments": {},
   "cell_type": "markdown",
   "metadata": {},
   "source": [
    "## 웹 크롤링 \n",
    "\n",
    "### 인터넷 접속 라이브러리 추가\n",
    "\n"
   ]
  },
  {
   "cell_type": "code",
   "execution_count": 31,
   "metadata": {},
   "outputs": [
    {
     "name": "stdout",
     "output_type": "stream",
     "text": [
      "부산의 현재 기온은 11.0℃ 입니다.\n",
      "부산의 현재 습도는 25% 입니다.\n"
     ]
    }
   ],
   "source": [
    "from urllib.request import urlopen, Request\n",
    "\n",
    "# 도시별 날씨 검색함수\n",
    "def get_weather(city):\n",
    "    # 기상청 홈페이지 도시별 날씨 페이지\n",
    "    url = 'https://www.weather.go.kr/w/obs-climate/land/city-obs.do'\n",
    "    page = urlopen(url=url)\n",
    "    # 인코딩은 utf-8로 되어있다.\n",
    "    text = page.read().decode('utf-8')\n",
    "    # 텍스트를 찾는데 꺽쇠 뒤에 city를 찾아라\n",
    "    text = text[text.find(f'>{city}</a'):]\n",
    "\n",
    "    # 기온 가져오기\n",
    "    for i in range(7):\n",
    "        # 반복하면서 <tb>에 둘러쌓인 원하는 값 찾기\n",
    "        text = text[text.find(f'<td>')+1:]\n",
    "    # 찾은 지점부터 3번 째 값\n",
    "    start = 3\n",
    "    # 사이값 찾은 뒤에 있는 </tb>값\n",
    "    end = text.find('</td>')\n",
    "    # 시작지점 ~ 종료지점 사이 값\n",
    "    current_temp = text[start:end]\n",
    "    print(f'{city}의 현재 기온은 {current_temp}℃ 입니다.')\n",
    "\n",
    "    # 습도 가져오기\n",
    "    for i in range(3):\n",
    "        text = text[text.find(f'<td>')+1:]\n",
    "    start = 3\n",
    "    end = text.find('</td>')\n",
    "    current_humid = text[start:end]\n",
    "    print(f'{city}의 현재 습도는 {current_humid}% 입니다.')\n",
    "    \n",
    "if __name__ == '__main__':\n",
    "    get_weather('부산')"
   ]
  },
  {
   "attachments": {},
   "cell_type": "markdown",
   "metadata": {},
   "source": [
    "### OpenAPI 크롤링\n",
    "\n",
    "- 공공데이터 포털\n",
    "    - https://www.data.go.kr\n",
    "    - 부산광역시 버스정보안내기 현황"
   ]
  },
  {
   "cell_type": "code",
   "execution_count": null,
   "metadata": {},
   "outputs": [],
   "source": [
    "from urllib.request import urlopen, Request\n",
    "from urllib.parse import quote\n",
    "import json\n",
    "\n",
    "def getRequestUrl(url):\n",
    "    req = Request(url)\n",
    "\n",
    "    try:\n",
    "        res = urlopen(req)\n",
    "        if res.getcode() == 200:\n",
    "            return res.read().decode('utf-8')\n",
    "    except Exception as e:\n",
    "        print(e)\n",
    "        return None\n",
    "\n",
    "# stationName 정류소 이름\n",
    "\n",
    "def getDataPortalSearch(stationName, type):\n",
    "    \n",
    "    api_url = 'https://apis.data.go.kr/6260000/BusanTblBusinfoeqStusService/getTblBusinfoeqStusInfo'\n",
    "    api_url += '?serviceKey=6hhxOoRZmduvmq1x2rC8tUpOTEJPythkOXqaCfRhb1G8rL%2B%2BdNSwoN9DEGcZKHGhumwHaWyhtgGXbNDBbE%2FJ9g%3D%3D'\n",
    "    api_url += '&pageNo=1'\n",
    "    api_url += '&numOfRows=10'\n",
    "    api_url += f'&stationLoc={stationName}'\n",
    "    api_url += f'&resultType={type}'\n",
    "\n",
    "    response = getRequestUrl(api_url)\n",
    "\n",
    "    if response == None:\n",
    "        return None\n",
    "    else:\n",
    "        return json.loads(response)\n",
    "\n",
    "# quote('롯데').encode('utf-8')\n",
    "getDataPortalSearch('롯데백화점', 'json')"
   ]
  }
 ],
 "metadata": {
  "kernelspec": {
   "display_name": "Python 3",
   "language": "python",
   "name": "python3"
  },
  "language_info": {
   "codemirror_mode": {
    "name": "ipython",
    "version": 3
   },
   "file_extension": ".py",
   "mimetype": "text/x-python",
   "name": "python",
   "nbconvert_exporter": "python",
   "pygments_lexer": "ipython3",
   "version": "3.11.1"
  },
  "orig_nbformat": 4,
  "vscode": {
   "interpreter": {
    "hash": "71b1b81ffc27d97be07a3b3747d87f3fa31f943afac0b672ba5feabfb5da68fc"
   }
  }
 },
 "nbformat": 4,
 "nbformat_minor": 2
}
