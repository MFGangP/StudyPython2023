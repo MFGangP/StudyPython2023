{
 "cells": [
  {
   "attachments": {},
   "cell_type": "markdown",
   "metadata": {},
   "source": [
    "## 웹 크롤링 \n",
    "\n",
    "### 인터넷 접속 라이브러리 추가\n",
    "\n"
   ]
  },
  {
   "cell_type": "code",
   "execution_count": 24,
   "metadata": {},
   "outputs": [
    {
     "name": "stdout",
     "output_type": "stream",
     "text": [
      "부산의 현재 기온은 7.1℃ 입니다.\n",
      "부산의 현재 습도는 41％ 입니다.\n"
     ]
    }
   ],
   "source": [
    "from urllib.request import urlopen, Request\n",
    "\n",
    "# 도시별 날씨 검색함수\n",
    "def get_weather(city):\n",
    "    # 기상청 홈페이지 도시별 날씨 페이지\n",
    "    url = 'https://www.weather.go.kr/w/obs-climate/land/city-obs.do'\n",
    "    page = urlopen(url=url)\n",
    "    # 인코딩은 utf-8로 되어있다.\n",
    "    text = page.read().decode('utf-8')\n",
    "    # 텍스트를 찾는데 꺽쇠 뒤에 city를 찾아라\n",
    "    text = text[text.find(f'>{city}</a'):]\n",
    "\n",
    "    # 기온 가져오기\n",
    "    for i in range(7):\n",
    "        # 반복하면서 <tb>에 둘러쌓인 원하는 값 찾기\n",
    "        text = text[text.find(f'<td>')+1:]\n",
    "    # 찾은 지점부터 3번 째 값\n",
    "    start = 3\n",
    "    # 사이값 찾은 뒤에 있는 </tb>값\n",
    "    end = text.find('</td>')\n",
    "    # 시작지점 ~ 종료지점 사이 값\n",
    "    current_temp = text[start:end]\n",
    "    print(f'{city}의 현재 기온은 {current_temp}℃ 입니다.')\n",
    "\n",
    "    # 습도 가져오기\n",
    "    for i in range(3):\n",
    "        text = text[text.find(f'<td>')+1:]\n",
    "    start = 3\n",
    "    end = text.find('</td>')\n",
    "    current_humid = text[start:end]\n",
    "    print(f'{city}의 현재 습도는 {current_humid}% 입니다.')\n",
    "    \n",
    "if __name__ == '__main__':\n",
    "    get_weather('부산')"
   ]
  }
 ],
 "metadata": {
  "kernelspec": {
   "display_name": "Python 3",
   "language": "python",
   "name": "python3"
  },
  "language_info": {
   "codemirror_mode": {
    "name": "ipython",
    "version": 3
   },
   "file_extension": ".py",
   "mimetype": "text/x-python",
   "name": "python",
   "nbconvert_exporter": "python",
   "pygments_lexer": "ipython3",
   "version": "3.11.1"
  },
  "orig_nbformat": 4,
  "vscode": {
   "interpreter": {
    "hash": "71b1b81ffc27d97be07a3b3747d87f3fa31f943afac0b672ba5feabfb5da68fc"
   }
  }
 },
 "nbformat": 4,
 "nbformat_minor": 2
}
