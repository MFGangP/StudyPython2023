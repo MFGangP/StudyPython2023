{
 "cells": [
  {
   "attachments": {},
   "cell_type": "markdown",
   "metadata": {},
   "source": [
    "## 첫번째 주피터 노트북"
   ]
  },
  {
   "cell_type": "code",
   "execution_count": 2,
   "metadata": {},
   "outputs": [
    {
     "name": "stdout",
     "output_type": "stream",
     "text": [
      "Hello, Jupyter\n"
     ]
    }
   ],
   "source": [
    "# 여기는 주석\n",
    "print('Hello, Jupyter')"
   ]
  },
  {
   "cell_type": "code",
   "execution_count": 3,
   "metadata": {},
   "outputs": [
    {
     "name": "stdout",
     "output_type": "stream",
     "text": [
      "0 출력\n",
      "1 출력\n",
      "2 출력\n",
      "3 출력\n",
      "4 출력\n",
      "5 출력\n",
      "6 출력\n",
      "7 출력\n",
      "8 출력\n",
      "9 출력\n"
     ]
    }
   ],
   "source": [
    "for item in range (10):\n",
    "    print(f'{item} 출력')"
   ]
  },
  {
   "cell_type": "code",
   "execution_count": null,
   "metadata": {},
   "outputs": [],
   "source": []
  }
 ],
 "metadata": {
  "kernelspec": {
   "display_name": "Python 3",
   "language": "python",
   "name": "python3"
  },
  "language_info": {
   "codemirror_mode": {
    "name": "ipython",
    "version": 3
   },
   "file_extension": ".py",
   "mimetype": "text/x-python",
   "name": "python",
   "nbconvert_exporter": "python",
   "pygments_lexer": "ipython3",
   "version": "3.11.1"
  },
  "orig_nbformat": 4,
  "vscode": {
   "interpreter": {
    "hash": "71b1b81ffc27d97be07a3b3747d87f3fa31f943afac0b672ba5feabfb5da68fc"
   }
  }
 },
 "nbformat": 4,
 "nbformat_minor": 2
}
